{
 "cells": [
  {
   "cell_type": "code",
   "execution_count": 60,
   "metadata": {
    "collapsed": false
   },
   "outputs": [
    {
     "name": "stdout",
     "output_type": "stream",
     "text": [
      " 驱动器 C 中的卷没有标签。\n",
      " 卷的序列号是 5E89-17F7\n",
      "\n",
      " C:\\Users\\frc\\RCContest\\Training_Set 的目录\n",
      "\n",
      "2016/03/13  12:05    <DIR>          .\n",
      "2016/03/13  12:05    <DIR>          ..\n",
      "2016/02/23  10:34        18,962,271 PPD_LogInfo_3_1_Training_Set.csv\n",
      "2016/03/02  11:10        20,322,725 PPD_Training_Master_GBK_3_1_Training_Set.csv\n",
      "2016/02/23  10:35        15,323,941 PPD_Userupdate_Info_3_1_Training_Set.csv\n",
      "               3 个文件     54,608,937 字节\n",
      "               2 个目录  3,568,619,520 可用字节\n"
     ]
    }
   ],
   "source": [
    "ls"
   ]
  },
  {
   "cell_type": "code",
   "execution_count": 6,
   "metadata": {
    "collapsed": true
   },
   "outputs": [],
   "source": [
    "import numpy as np\n",
    "from pandas import Series,DataFrame\n",
    "import pandas as pd\n",
    "import matplotlib.pyplot as plt\n",
    "import seaborn as sns\n",
    "%matplotlib inline"
   ]
  },
  {
   "cell_type": "code",
   "execution_count": 9,
   "metadata": {
    "collapsed": true
   },
   "outputs": [],
   "source": [
    "train=pd.read_csv('PPD_Training_Master_GBK_3_1_Training_Set.csv',encoding='gbk')"
   ]
  },
  {
   "cell_type": "code",
   "execution_count": 91,
   "metadata": {
    "collapsed": true
   },
   "outputs": [],
   "source": [
    "train.to_csv('raw_data.csv',encoding='gbk')"
   ]
  },
  {
   "cell_type": "code",
   "execution_count": 90,
   "metadata": {
    "collapsed": false
   },
   "outputs": [
    {
     "data": {
      "text/html": [
       "<div>\n",
       "<table border=\"1\" class=\"dataframe\">\n",
       "  <thead>\n",
       "    <tr style=\"text-align: right;\">\n",
       "      <th></th>\n",
       "      <th>Idx_index</th>\n",
       "      <th>UserInfo_1_C</th>\n",
       "      <th>UserInfo_2_C</th>\n",
       "      <th>UserInfo_3_C</th>\n",
       "      <th>UserInfo_4_C</th>\n",
       "      <th>WeblogInfo_1_N</th>\n",
       "      <th>WeblogInfo_2_N</th>\n",
       "      <th>WeblogInfo_3_N</th>\n",
       "      <th>WeblogInfo_4_N</th>\n",
       "      <th>WeblogInfo_5_N</th>\n",
       "      <th>...</th>\n",
       "      <th>SocialNetwork_10_N</th>\n",
       "      <th>SocialNetwork_11_N</th>\n",
       "      <th>SocialNetwork_12_C</th>\n",
       "      <th>SocialNetwork_13_N</th>\n",
       "      <th>SocialNetwork_14_N</th>\n",
       "      <th>SocialNetwork_15_N</th>\n",
       "      <th>SocialNetwork_16_N</th>\n",
       "      <th>SocialNetwork_17_N</th>\n",
       "      <th>target_N</th>\n",
       "      <th>ListingInfo_N</th>\n",
       "    </tr>\n",
       "  </thead>\n",
       "  <tbody>\n",
       "    <tr>\n",
       "      <th>1</th>\n",
       "      <td>10001</td>\n",
       "      <td>1</td>\n",
       "      <td>深圳</td>\n",
       "      <td>4</td>\n",
       "      <td>深圳</td>\n",
       "      <td>NaN</td>\n",
       "      <td>1</td>\n",
       "      <td>NaN</td>\n",
       "      <td>1</td>\n",
       "      <td>1</td>\n",
       "      <td>...</td>\n",
       "      <td>222</td>\n",
       "      <td>NaN</td>\n",
       "      <td>0</td>\n",
       "      <td>0</td>\n",
       "      <td>0</td>\n",
       "      <td>0</td>\n",
       "      <td>0</td>\n",
       "      <td>1</td>\n",
       "      <td>0</td>\n",
       "      <td>2014/3/5</td>\n",
       "    </tr>\n",
       "    <tr>\n",
       "      <th>2</th>\n",
       "      <td>10002</td>\n",
       "      <td>1</td>\n",
       "      <td>温州</td>\n",
       "      <td>4</td>\n",
       "      <td>温州</td>\n",
       "      <td>NaN</td>\n",
       "      <td>0</td>\n",
       "      <td>NaN</td>\n",
       "      <td>1</td>\n",
       "      <td>1</td>\n",
       "      <td>...</td>\n",
       "      <td>1</td>\n",
       "      <td>NaN</td>\n",
       "      <td>0</td>\n",
       "      <td>0</td>\n",
       "      <td>0</td>\n",
       "      <td>0</td>\n",
       "      <td>0</td>\n",
       "      <td>2</td>\n",
       "      <td>0</td>\n",
       "      <td>2014/2/26</td>\n",
       "    </tr>\n",
       "    <tr>\n",
       "      <th>3</th>\n",
       "      <td>10003</td>\n",
       "      <td>1</td>\n",
       "      <td>宜昌</td>\n",
       "      <td>3</td>\n",
       "      <td>宜昌</td>\n",
       "      <td>NaN</td>\n",
       "      <td>0</td>\n",
       "      <td>NaN</td>\n",
       "      <td>2</td>\n",
       "      <td>2</td>\n",
       "      <td>...</td>\n",
       "      <td>NaN</td>\n",
       "      <td>NaN</td>\n",
       "      <td>NaN</td>\n",
       "      <td>1</td>\n",
       "      <td>0</td>\n",
       "      <td>0</td>\n",
       "      <td>0</td>\n",
       "      <td>0</td>\n",
       "      <td>0</td>\n",
       "      <td>2014/2/28</td>\n",
       "    </tr>\n",
       "    <tr>\n",
       "      <th>4</th>\n",
       "      <td>10006</td>\n",
       "      <td>4</td>\n",
       "      <td>南平</td>\n",
       "      <td>1</td>\n",
       "      <td>南平</td>\n",
       "      <td>NaN</td>\n",
       "      <td>NaN</td>\n",
       "      <td>NaN</td>\n",
       "      <td>NaN</td>\n",
       "      <td>NaN</td>\n",
       "      <td>...</td>\n",
       "      <td>NaN</td>\n",
       "      <td>NaN</td>\n",
       "      <td>NaN</td>\n",
       "      <td>0</td>\n",
       "      <td>0</td>\n",
       "      <td>0</td>\n",
       "      <td>0</td>\n",
       "      <td>0</td>\n",
       "      <td>0</td>\n",
       "      <td>2014/2/25</td>\n",
       "    </tr>\n",
       "    <tr>\n",
       "      <th>5</th>\n",
       "      <td>10007</td>\n",
       "      <td>5</td>\n",
       "      <td>辽阳</td>\n",
       "      <td>1</td>\n",
       "      <td>辽阳</td>\n",
       "      <td>NaN</td>\n",
       "      <td>0</td>\n",
       "      <td>NaN</td>\n",
       "      <td>1</td>\n",
       "      <td>1</td>\n",
       "      <td>...</td>\n",
       "      <td>NaN</td>\n",
       "      <td>NaN</td>\n",
       "      <td>NaN</td>\n",
       "      <td>0</td>\n",
       "      <td>0</td>\n",
       "      <td>0</td>\n",
       "      <td>0</td>\n",
       "      <td>0</td>\n",
       "      <td>0</td>\n",
       "      <td>2014/2/27</td>\n",
       "    </tr>\n",
       "  </tbody>\n",
       "</table>\n",
       "<p>5 rows × 228 columns</p>\n",
       "</div>"
      ],
      "text/plain": [
       "  Idx_index UserInfo_1_C UserInfo_2_C UserInfo_3_C UserInfo_4_C  \\\n",
       "1     10001            1           深圳            4           深圳   \n",
       "2     10002            1           温州            4           温州   \n",
       "3     10003            1           宜昌            3           宜昌   \n",
       "4     10006            4           南平            1           南平   \n",
       "5     10007            5           辽阳            1           辽阳   \n",
       "\n",
       "  WeblogInfo_1_N WeblogInfo_2_N WeblogInfo_3_N WeblogInfo_4_N WeblogInfo_5_N  \\\n",
       "1            NaN              1            NaN              1              1   \n",
       "2            NaN              0            NaN              1              1   \n",
       "3            NaN              0            NaN              2              2   \n",
       "4            NaN            NaN            NaN            NaN            NaN   \n",
       "5            NaN              0            NaN              1              1   \n",
       "\n",
       "       ...      SocialNetwork_10_N SocialNetwork_11_N SocialNetwork_12_C  \\\n",
       "1      ...                     222                NaN                  0   \n",
       "2      ...                       1                NaN                  0   \n",
       "3      ...                     NaN                NaN                NaN   \n",
       "4      ...                     NaN                NaN                NaN   \n",
       "5      ...                     NaN                NaN                NaN   \n",
       "\n",
       "  SocialNetwork_13_N SocialNetwork_14_N SocialNetwork_15_N SocialNetwork_16_N  \\\n",
       "1                  0                  0                  0                  0   \n",
       "2                  0                  0                  0                  0   \n",
       "3                  1                  0                  0                  0   \n",
       "4                  0                  0                  0                  0   \n",
       "5                  0                  0                  0                  0   \n",
       "\n",
       "  SocialNetwork_17_N target_N ListingInfo_N  \n",
       "1                  1        0      2014/3/5  \n",
       "2                  2        0     2014/2/26  \n",
       "3                  0        0     2014/2/28  \n",
       "4                  0        0     2014/2/25  \n",
       "5                  0        0     2014/2/27  \n",
       "\n",
       "[5 rows x 228 columns]"
      ]
     },
     "execution_count": 90,
     "metadata": {},
     "output_type": "execute_result"
    }
   ],
   "source": [
    "train.head()"
   ]
  },
  {
   "cell_type": "code",
   "execution_count": 83,
   "metadata": {
    "collapsed": false
   },
   "outputs": [],
   "source": [
    "train=train.replace('Index','_index')"
   ]
  },
  {
   "cell_type": "code",
   "execution_count": 85,
   "metadata": {
    "collapsed": false
   },
   "outputs": [
    {
     "name": "stderr",
     "output_type": "stream",
     "text": [
      "C:\\Anaconda2\\lib\\site-packages\\ipykernel\\__main__.py:1: FutureWarning: using '+' to provide set union with Indexes is deprecated, use '|' or .union()\n",
      "  if __name__ == '__main__':\n"
     ]
    }
   ],
   "source": [
    "train.columns=train.columns+train.ix[0]"
   ]
  },
  {
   "cell_type": "code",
   "execution_count": 89,
   "metadata": {
    "collapsed": false
   },
   "outputs": [],
   "source": [
    "train=train.drop(0)"
   ]
  },
  {
   "cell_type": "code",
   "execution_count": null,
   "metadata": {
    "collapsed": true
   },
   "outputs": [],
   "source": []
  }
 ],
 "metadata": {
  "kernelspec": {
   "display_name": "Python 2",
   "language": "python",
   "name": "python2"
  },
  "language_info": {
   "codemirror_mode": {
    "name": "ipython",
    "version": 2
   },
   "file_extension": ".py",
   "mimetype": "text/x-python",
   "name": "python",
   "nbconvert_exporter": "python",
   "pygments_lexer": "ipython2",
   "version": "2.7.10"
  }
 },
 "nbformat": 4,
 "nbformat_minor": 0
}
